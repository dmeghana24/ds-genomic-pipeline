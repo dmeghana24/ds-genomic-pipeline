
**`notebooks/integration_mofa.ipynb`**  
*(Python, toy integration)*
```python
import pandas as pd
counts = pd.read_csv('../data/mock_counts.txt', sep='\t', index_col=0)
methyl = pd.read_csv('../results/mock_methyl_results.txt', sep='\t', index_col=0)
integrated = pd.concat([counts, methyl], axis=1)
print(integrated)
integrated.plot(kind='bar')

