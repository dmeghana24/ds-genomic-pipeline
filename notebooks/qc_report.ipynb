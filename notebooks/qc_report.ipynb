import pandas as pd
import matplotlib.pyplot as plt
counts = pd.read_csv('../data/mock_counts.txt', sep='\t')
counts.plot(kind='bar', x='gene', y=['sample1', 'sample2'])
plt.title('Gene Expression Counts')
plt.xlabel('Gene')
plt.ylabel('Counts')
plt.tight_layout()
plt.savefig('../results/qc_counts_barplot.png')
plt.show()

